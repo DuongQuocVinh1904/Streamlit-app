{
 "cells": [
  {
   "cell_type": "code",
   "execution_count": 1,
   "metadata": {},
   "outputs": [],
   "source": [
    "import pandas as pd\n",
    "import matplotlib.pyplot as plt\n",
    "%matplotlib inline"
   ]
  },
  {
   "cell_type": "code",
   "execution_count": 2,
   "metadata": {},
   "outputs": [],
   "source": [
    "df = pd.read_csv('output_final.csv',skipinitialspace=True)"
   ]
  },
  {
   "cell_type": "code",
   "execution_count": 3,
   "metadata": {},
   "outputs": [
    {
     "data": {
      "text/html": [
       "<div>\n",
       "<style scoped>\n",
       "    .dataframe tbody tr th:only-of-type {\n",
       "        vertical-align: middle;\n",
       "    }\n",
       "\n",
       "    .dataframe tbody tr th {\n",
       "        vertical-align: top;\n",
       "    }\n",
       "\n",
       "    .dataframe thead th {\n",
       "        text-align: right;\n",
       "    }\n",
       "</style>\n",
       "<table border=\"1\" class=\"dataframe\">\n",
       "  <thead>\n",
       "    <tr style=\"text-align: right;\">\n",
       "      <th></th>\n",
       "      <th>Name</th>\n",
       "      <th>Condition</th>\n",
       "      <th>Price</th>\n",
       "      <th>Location</th>\n",
       "      <th>Link</th>\n",
       "      <th>Car_code</th>\n",
       "    </tr>\n",
       "  </thead>\n",
       "  <tbody>\n",
       "    <tr>\n",
       "      <th>15140</th>\n",
       "      <td>Mercedes Benz SLC 43 AMG - 2017</td>\n",
       "      <td>Xe cũ</td>\n",
       "      <td>3 Tỷ 200 Triệu</td>\n",
       "      <td>Hà Nội</td>\n",
       "      <td>xe-mercedes_benz-slc-43-amg-2017-4155786</td>\n",
       "      <td>Mã: 4155786</td>\n",
       "    </tr>\n",
       "    <tr>\n",
       "      <th>7689</th>\n",
       "      <td>Hyundai Kona 1.6 Turbo - 2019</td>\n",
       "      <td>Xe cũ</td>\n",
       "      <td>660 Triệu</td>\n",
       "      <td>Vĩnh Phúc</td>\n",
       "      <td>xe-hyundai-kona-1.6-turbo-2019-4460291</td>\n",
       "      <td>Mã: 4460291</td>\n",
       "    </tr>\n",
       "    <tr>\n",
       "      <th>31498</th>\n",
       "      <td>Honda City 1.5 - 2018</td>\n",
       "      <td>Xe cũ</td>\n",
       "      <td>405 Triệu</td>\n",
       "      <td>Thái Nguyên</td>\n",
       "      <td>xe-honda-city-1.5-2018-4398122</td>\n",
       "      <td>Mã: 4398122</td>\n",
       "    </tr>\n",
       "  </tbody>\n",
       "</table>\n",
       "</div>"
      ],
      "text/plain": [
       "                                  Name Condition           Price     Location  \\\n",
       "15140  Mercedes Benz SLC 43 AMG - 2017     Xe cũ  3 Tỷ 200 Triệu       Hà Nội   \n",
       "7689     Hyundai Kona 1.6 Turbo - 2019     Xe cũ       660 Triệu    Vĩnh Phúc   \n",
       "31498            Honda City 1.5 - 2018     Xe cũ       405 Triệu  Thái Nguyên   \n",
       "\n",
       "                                           Link     Car_code  \n",
       "15140  xe-mercedes_benz-slc-43-amg-2017-4155786  Mã: 4155786  \n",
       "7689     xe-hyundai-kona-1.6-turbo-2019-4460291  Mã: 4460291  \n",
       "31498            xe-honda-city-1.5-2018-4398122  Mã: 4398122  "
      ]
     },
     "execution_count": 3,
     "metadata": {},
     "output_type": "execute_result"
    }
   ],
   "source": [
    "df.sample(3)"
   ]
  },
  {
   "cell_type": "markdown",
   "metadata": {},
   "source": [
    "## Extract YEAR and Classify car brand"
   ]
  },
  {
   "cell_type": "code",
   "execution_count": 4,
   "metadata": {},
   "outputs": [],
   "source": [
    "new = df['Name'].str.split(\"-\",n=1,expand=True)\n",
    "df['Year'] = new[1]\n",
    "df['Car'] = new[0]\n",
    "df.drop(columns=['Name'],inplace=True)\n"
   ]
  },
  {
   "cell_type": "code",
   "execution_count": 5,
   "metadata": {},
   "outputs": [],
   "source": [
    "df['Final_link'] = \"bonbanh.com/\" + df['Link']\n",
    "df.drop(columns=['Link'],inplace=True)"
   ]
  },
  {
   "cell_type": "code",
   "execution_count": 6,
   "metadata": {},
   "outputs": [],
   "source": [
    "def car_classified(name):\n",
    "    if 'Kia' in name:\n",
    "        result = 'Kia'\n",
    "    elif 'Toyota' in name:\n",
    "        result = 'Toyota'\n",
    "    elif 'Lexus' in name:\n",
    "        result = 'Lexus'\n",
    "    elif 'Volkswagen' in name:\n",
    "        result = 'Toyota'\n",
    "    elif 'BMW' in name:\n",
    "        result = 'BMW'\n",
    "    elif 'Rolls Royce' in name:\n",
    "        result = 'Rolls Royce'\n",
    "    elif 'Honda' in name:\n",
    "        result = 'Honda'\n",
    "    elif 'Ford' in name:\n",
    "        result = 'Ford'\n",
    "    elif 'Hyundai' in name:\n",
    "        result = 'Hyundai'\n",
    "    elif 'Nissan' in name:\n",
    "        result = 'Nissan'\n",
    "    elif 'Peugeot' in name:\n",
    "        result = 'Peugeot'\n",
    "    elif 'Suzuki' in name:\n",
    "        result = 'Suzuki'\n",
    "    elif 'Mercedes' in name:\n",
    "        result = 'Mercedes Benz'\n",
    "    elif 'Chevrolet' in name:\n",
    "        result = 'Chevrolet'\n",
    "    elif 'Mazda' in name:\n",
    "        result = 'Mazda'\n",
    "    elif 'Range Rover' in name:\n",
    "        result = 'Range Rover'\n",
    "    elif 'Mitsubishi' in name:\n",
    "        result = 'Mitsubishi'\n",
    "    elif 'VinFast' in name:\n",
    "        result = 'VinFast'\n",
    "    elif 'Porsche' in name:\n",
    "        result = 'Porsche'\n",
    "    elif 'Jaguar' in name:\n",
    "        result = 'Jaguar'\n",
    "    elif 'Volvo' in name:\n",
    "        result = 'Volvo'\n",
    "    elif 'Audi' in name:\n",
    "        result = 'Audi'\n",
    "    elif 'Bentley' in name:\n",
    "        result = 'Bentley'\n",
    "    elif 'Lamborghini' in name:\n",
    "        result = 'Lamborghini'\n",
    "    elif 'Ferrari' in name:\n",
    "        result = 'Ferrari'\n",
    "    else:\n",
    "        result = 'Others'\n",
    "    return result\n",
    "df['Brand'] = df['Car'].apply(car_classified)"
   ]
  },
  {
   "cell_type": "code",
   "execution_count": 7,
   "metadata": {},
   "outputs": [
    {
     "data": {
      "image/png": "[encoded data removed]",
      "text/plain": [
       "<Figure size 640x480 with 1 Axes>"
      ]
     },
     "metadata": {},
     "output_type": "display_data"
    },
    {
     "data": {
      "text/plain": [
       "<Figure size 2000x1500 with 0 Axes>"
      ]
     },
     "metadata": {},
     "output_type": "display_data"
    }
   ],
   "source": [
    "number_ranking = df.groupby(df.Brand).size().sort_values(ascending=True)\n",
    "d2 = number_ranking.to_frame(name='Count').reset_index()\n",
    "fig, ax = plt.subplots()\n",
    "\n",
    "bars = ax.barh(d2['Brand'], d2['Count'])\n",
    "ax.bar_label(bars)\n",
    "plt.figure(figsize=(20,15))\n",
    "plt.show()"
   ]
  },
  {
   "cell_type": "markdown",
   "metadata": {},
   "source": [
    "## Convert \"Triệu\" and \"Tỷ\" to 10^6 and 10^9 "
   ]
  },
  {
   "cell_type": "code",
   "execution_count": 8,
   "metadata": {},
   "outputs": [],
   "source": [
    "def convert2pirce(text):\n",
    "    if 'Tỷ' in text:\n",
    "        num_bil = text.split(' Tỷ')[0]\n",
    "        price = int(num_bil)*10e8 \n",
    "        if 'Triệu' in text:\n",
    "            num_mil = text.split(' Tỷ ')[1].split(' ')[0]\n",
    "            price += int(num_mil)*10e5\n",
    "        return str(price)\n",
    "    else:\n",
    "        return str(int(text.split(' ')[0])*10e5)"
   ]
  },
  {
   "cell_type": "code",
   "execution_count": 9,
   "metadata": {},
   "outputs": [],
   "source": [
    "df['Price'] = df['Price'].apply(lambda x: f'{float(convert2pirce(x)):.3f}')"
   ]
  },
  {
   "cell_type": "code",
   "execution_count": 10,
   "metadata": {},
   "outputs": [
    {
     "data": {
      "text/plain": [
       "0         9300000000.000\n",
       "1         9999000000.000\n",
       "2         4300000000.000\n",
       "3        13900000000.000\n",
       "4         4300000000.000\n",
       "              ...       \n",
       "39878       55000000.000\n",
       "39879      220000000.000\n",
       "39880      365000000.000\n",
       "39881      385000000.000\n",
       "39882      155000000.000\n",
       "Name: Price, Length: 39883, dtype: object"
      ]
     },
     "execution_count": 10,
     "metadata": {},
     "output_type": "execute_result"
    }
   ],
   "source": [
    "df.Price"
   ]
  },
  {
   "cell_type": "code",
   "execution_count": 11,
   "metadata": {},
   "outputs": [],
   "source": [
    "#Remove dot \n",
    "df['Price'] = df['Price'].str.split(\".\", n=1).str[0]\n",
    "df['Price'] = df['Price'].astype(float)"
   ]
  },
  {
   "cell_type": "markdown",
   "metadata": {},
   "source": [
    "## How many old and new cars on the market"
   ]
  },
  {
   "cell_type": "code",
   "execution_count": 12,
   "metadata": {},
   "outputs": [
    {
     "data": {
      "text/plain": [
       "Condition\n",
       "Xe cũ     30458\n",
       "Xe mới     9425\n",
       "dtype: int64"
      ]
     },
     "execution_count": 12,
     "metadata": {},
     "output_type": "execute_result"
    }
   ],
   "source": [
    "df.groupby('Condition').size()"
   ]
  },
  {
   "cell_type": "markdown",
   "metadata": {},
   "source": [
    "## Convert PRICE to USD (1usd = 23.385vnd) and do analysis"
   ]
  },
  {
   "cell_type": "code",
   "execution_count": 13,
   "metadata": {},
   "outputs": [
    {
     "data": {
      "text/html": [
       "<div>\n",
       "<style scoped>\n",
       "    .dataframe tbody tr th:only-of-type {\n",
       "        vertical-align: middle;\n",
       "    }\n",
       "\n",
       "    .dataframe tbody tr th {\n",
       "        vertical-align: top;\n",
       "    }\n",
       "\n",
       "    .dataframe thead th {\n",
       "        text-align: right;\n",
       "    }\n",
       "</style>\n",
       "<table border=\"1\" class=\"dataframe\">\n",
       "  <thead>\n",
       "    <tr style=\"text-align: right;\">\n",
       "      <th></th>\n",
       "      <th>Condition</th>\n",
       "      <th>Price</th>\n",
       "      <th>Location</th>\n",
       "      <th>Car_code</th>\n",
       "      <th>Year</th>\n",
       "      <th>Car</th>\n",
       "      <th>Final_link</th>\n",
       "      <th>Brand</th>\n",
       "    </tr>\n",
       "  </thead>\n",
       "  <tbody>\n",
       "    <tr>\n",
       "      <th>0</th>\n",
       "      <td>Xe cũ</td>\n",
       "      <td>397690.827453</td>\n",
       "      <td>TP HCM</td>\n",
       "      <td>Mã: 4461355</td>\n",
       "      <td>2020</td>\n",
       "      <td>LandRover Range Rover Autobiography LWB 3.0 I6</td>\n",
       "      <td>bonbanh.com/xe-landrover-range_rover-autobiogr...</td>\n",
       "      <td>Range Rover</td>\n",
       "    </tr>\n",
       "    <tr>\n",
       "      <th>1</th>\n",
       "      <td>Xe cũ</td>\n",
       "      <td>427581.783194</td>\n",
       "      <td>TP HCM</td>\n",
       "      <td>Mã: 4451716</td>\n",
       "      <td>2021</td>\n",
       "      <td>Porsche 911 Carrera S</td>\n",
       "      <td>bonbanh.com/xe-porsche-911-carrera-s-2021-4451716</td>\n",
       "      <td>Porsche</td>\n",
       "    </tr>\n",
       "    <tr>\n",
       "      <th>2</th>\n",
       "      <td>Xe cũ</td>\n",
       "      <td>183878.554629</td>\n",
       "      <td>TP HCM</td>\n",
       "      <td>Mã: 4405187</td>\n",
       "      <td>2022</td>\n",
       "      <td>Porsche Macan 2.0</td>\n",
       "      <td>bonbanh.com/xe-porsche-macan-2.0-2022-4405187</td>\n",
       "      <td>Porsche</td>\n",
       "    </tr>\n",
       "  </tbody>\n",
       "</table>\n",
       "</div>"
      ],
      "text/plain": [
       "  Condition          Price Location     Car_code   Year  \\\n",
       "0     Xe cũ  397690.827453   TP HCM  Mã: 4461355   2020   \n",
       "1     Xe cũ  427581.783194   TP HCM  Mã: 4451716   2021   \n",
       "2     Xe cũ  183878.554629   TP HCM  Mã: 4405187   2022   \n",
       "\n",
       "                                               Car  \\\n",
       "0  LandRover Range Rover Autobiography LWB 3.0 I6    \n",
       "1                           Porsche 911 Carrera S    \n",
       "2                               Porsche Macan 2.0    \n",
       "\n",
       "                                          Final_link        Brand  \n",
       "0  bonbanh.com/xe-landrover-range_rover-autobiogr...  Range Rover  \n",
       "1  bonbanh.com/xe-porsche-911-carrera-s-2021-4451716      Porsche  \n",
       "2      bonbanh.com/xe-porsche-macan-2.0-2022-4405187      Porsche  "
      ]
     },
     "execution_count": 13,
     "metadata": {},
     "output_type": "execute_result"
    }
   ],
   "source": [
    "df2 = df.copy()\n",
    "df2.Price = df2.Price / 23385\n",
    "df2.head(3)"
   ]
  },
  {
   "cell_type": "code",
   "execution_count": 14,
   "metadata": {},
   "outputs": [],
   "source": [
    "df2['Price'] = df2['Price'].round()\n",
    "df2['Price (USD)']  = df2['Price'] \n",
    "df2.drop('Price',axis=1,inplace=True) "
   ]
  },
  {
   "cell_type": "code",
   "execution_count": 15,
   "metadata": {},
   "outputs": [
    {
     "data": {
      "text/html": [
       "<div>\n",
       "<style scoped>\n",
       "    .dataframe tbody tr th:only-of-type {\n",
       "        vertical-align: middle;\n",
       "    }\n",
       "\n",
       "    .dataframe tbody tr th {\n",
       "        vertical-align: top;\n",
       "    }\n",
       "\n",
       "    .dataframe thead th {\n",
       "        text-align: right;\n",
       "    }\n",
       "</style>\n",
       "<table border=\"1\" class=\"dataframe\">\n",
       "  <thead>\n",
       "    <tr style=\"text-align: right;\">\n",
       "      <th></th>\n",
       "      <th>Condition</th>\n",
       "      <th>Location</th>\n",
       "      <th>Car_code</th>\n",
       "      <th>Year</th>\n",
       "      <th>Car</th>\n",
       "      <th>Final_link</th>\n",
       "      <th>Brand</th>\n",
       "      <th>Price (USD)</th>\n",
       "    </tr>\n",
       "  </thead>\n",
       "  <tbody>\n",
       "    <tr>\n",
       "      <th>34230</th>\n",
       "      <td>Xe cũ</td>\n",
       "      <td>Hà Nội</td>\n",
       "      <td>Mã: 4381237</td>\n",
       "      <td>2001</td>\n",
       "      <td>Mitsubishi Jolie MB</td>\n",
       "      <td>bonbanh.com/xe-mitsubishi-jolie-mb-2001-4381237</td>\n",
       "      <td>Mitsubishi</td>\n",
       "      <td>2780.0</td>\n",
       "    </tr>\n",
       "    <tr>\n",
       "      <th>37657</th>\n",
       "      <td>Xe cũ</td>\n",
       "      <td>Hải Dương</td>\n",
       "      <td>Mã: 4320412</td>\n",
       "      <td>2009</td>\n",
       "      <td>Toyota Innova G</td>\n",
       "      <td>bonbanh.com/xe-toyota-innova-g-2009-4320412</td>\n",
       "      <td>Toyota</td>\n",
       "      <td>10819.0</td>\n",
       "    </tr>\n",
       "    <tr>\n",
       "      <th>11717</th>\n",
       "      <td>Xe cũ</td>\n",
       "      <td>Hà Nội</td>\n",
       "      <td>Mã: 4423332</td>\n",
       "      <td>2004</td>\n",
       "      <td>Hyundai SantaFe Gold 2.0 AT 4WD</td>\n",
       "      <td>bonbanh.com/xe-hyundai-santafe-gold-2.0-at-4wd...</td>\n",
       "      <td>Hyundai</td>\n",
       "      <td>11332.0</td>\n",
       "    </tr>\n",
       "  </tbody>\n",
       "</table>\n",
       "</div>"
      ],
      "text/plain": [
       "      Condition   Location     Car_code   Year  \\\n",
       "34230     Xe cũ     Hà Nội  Mã: 4381237   2001   \n",
       "37657     Xe cũ  Hải Dương  Mã: 4320412   2009   \n",
       "11717     Xe cũ     Hà Nội  Mã: 4423332   2004   \n",
       "\n",
       "                                    Car  \\\n",
       "34230              Mitsubishi Jolie MB    \n",
       "37657                  Toyota Innova G    \n",
       "11717  Hyundai SantaFe Gold 2.0 AT 4WD    \n",
       "\n",
       "                                              Final_link       Brand  \\\n",
       "34230    bonbanh.com/xe-mitsubishi-jolie-mb-2001-4381237  Mitsubishi   \n",
       "37657        bonbanh.com/xe-toyota-innova-g-2009-4320412      Toyota   \n",
       "11717  bonbanh.com/xe-hyundai-santafe-gold-2.0-at-4wd...     Hyundai   \n",
       "\n",
       "       Price (USD)  \n",
       "34230       2780.0  \n",
       "37657      10819.0  \n",
       "11717      11332.0  "
      ]
     },
     "execution_count": 15,
     "metadata": {},
     "output_type": "execute_result"
    }
   ],
   "source": [
    "df2.sample(3)"
   ]
  },
  {
   "cell_type": "code",
   "execution_count": 16,
   "metadata": {},
   "outputs": [],
   "source": [
    "d3 = df2.groupby('Brand')['Price (USD)'].mean().to_frame(name='Average price').reset_index()\n",
    "d3['Average price']  = d3['Average price'].apply(lambda x: '%.2f' %x)\n"
   ]
  },
  {
   "cell_type": "code",
   "execution_count": 17,
   "metadata": {},
   "outputs": [],
   "source": [
    "d3['Average price'] = d3['Average price'].astype(float)"
   ]
  },
  {
   "cell_type": "code",
   "execution_count": 18,
   "metadata": {},
   "outputs": [
    {
     "data": {
      "text/html": [
       "<div>\n",
       "<style scoped>\n",
       "    .dataframe tbody tr th:only-of-type {\n",
       "        vertical-align: middle;\n",
       "    }\n",
       "\n",
       "    .dataframe tbody tr th {\n",
       "        vertical-align: top;\n",
       "    }\n",
       "\n",
       "    .dataframe thead th {\n",
       "        text-align: right;\n",
       "    }\n",
       "</style>\n",
       "<table border=\"1\" class=\"dataframe\">\n",
       "  <thead>\n",
       "    <tr style=\"text-align: right;\">\n",
       "      <th></th>\n",
       "      <th>Brand</th>\n",
       "      <th>Average price</th>\n",
       "    </tr>\n",
       "  </thead>\n",
       "  <tbody>\n",
       "    <tr>\n",
       "      <th>20</th>\n",
       "      <td>Rolls Royce</td>\n",
       "      <td>1023373.69</td>\n",
       "    </tr>\n",
       "    <tr>\n",
       "      <th>10</th>\n",
       "      <td>Lamborghini</td>\n",
       "      <td>829298.07</td>\n",
       "    </tr>\n",
       "    <tr>\n",
       "      <th>2</th>\n",
       "      <td>Bentley</td>\n",
       "      <td>469593.13</td>\n",
       "    </tr>\n",
       "    <tr>\n",
       "      <th>4</th>\n",
       "      <td>Ferrari</td>\n",
       "      <td>334830.00</td>\n",
       "    </tr>\n",
       "    <tr>\n",
       "      <th>18</th>\n",
       "      <td>Porsche</td>\n",
       "      <td>193982.50</td>\n",
       "    </tr>\n",
       "  </tbody>\n",
       "</table>\n",
       "</div>"
      ],
      "text/plain": [
       "          Brand  Average price\n",
       "20  Rolls Royce     1023373.69\n",
       "10  Lamborghini      829298.07\n",
       "2       Bentley      469593.13\n",
       "4       Ferrari      334830.00\n",
       "18      Porsche      193982.50"
      ]
     },
     "execution_count": 18,
     "metadata": {},
     "output_type": "execute_result"
    }
   ],
   "source": [
    "d3.nlargest(5,'Average price')"
   ]
  },
  {
   "cell_type": "code",
   "execution_count": 19,
   "metadata": {},
   "outputs": [
    {
     "data": {
      "image/png": "[encoded data removed]",
      "text/plain": [
       "<Figure size 640x480 with 1 Axes>"
      ]
     },
     "metadata": {},
     "output_type": "display_data"
    },
    {
     "data": {
      "text/plain": [
       "<Figure size 2000x1500 with 0 Axes>"
      ]
     },
     "metadata": {},
     "output_type": "display_data"
    }
   ],
   "source": [
    "fig, ax = plt.subplots()\n",
    "\n",
    "bars = ax.barh(d3['Brand'], d3['Average price'])\n",
    "ax.bar_label(bars)\n",
    "plt.figure(figsize=(20,15))\n",
    "plt.show()"
   ]
  },
  {
   "cell_type": "markdown",
   "metadata": {},
   "source": [
    "## Top 10 most popular cars "
   ]
  },
  {
   "cell_type": "code",
   "execution_count": 20,
   "metadata": {},
   "outputs": [
    {
     "data": {
      "image/png": "[encoded data removed]",
      "text/plain": [
       "<Figure size 640x480 with 1 Axes>"
      ]
     },
     "metadata": {},
     "output_type": "display_data"
    },
    {
     "data": {
      "text/plain": [
       "<Figure size 2000x1500 with 0 Axes>"
      ]
     },
     "metadata": {},
     "output_type": "display_data"
    }
   ],
   "source": [
    "popular_cars = df2.groupby('Car').size().sort_values(ascending=True).to_frame('Number').reset_index()\n",
    "popular_cars_vsl  = popular_cars.nlargest(10,'Number')\n",
    "\n",
    "fig, ax = plt.subplots()\n",
    "\n",
    "bars = ax.barh(popular_cars_vsl['Car'], popular_cars_vsl['Number'])\n",
    "ax.bar_label(bars)\n",
    "plt.figure(figsize=(20,15))\n",
    "plt.show()"
   ]
  },
  {
   "cell_type": "code",
   "execution_count": 21,
   "metadata": {},
   "outputs": [],
   "source": [
    "d4 = popular_cars.sort_values(by=['Number'],ascending=False).head(10)\n",
    "list_car = list(d4['Car'])\n",
    "df3 = df2.copy()"
   ]
  },
  {
   "cell_type": "code",
   "execution_count": 22,
   "metadata": {},
   "outputs": [
    {
     "data": {
      "text/plain": [
       "['Ford Ranger XLS 2.2L 4x2 AT ',\n",
       " 'Mercedes Benz GLC 300 4Matic ',\n",
       " 'Mazda 3 1.5 AT ',\n",
       " 'Ford Ranger Wildtrak 2.0L 4x4 AT ',\n",
       " 'Toyota Innova 2.0E ',\n",
       " 'Toyota Vios 1.5G ',\n",
       " 'Toyota Camry 2.5Q ',\n",
       " 'Ford Ranger Wildtrak 3.2L 4x4 AT ',\n",
       " 'Mercedes Benz C class C300 AMG ',\n",
       " 'Toyota Innova G ']"
      ]
     },
     "execution_count": 22,
     "metadata": {},
     "output_type": "execute_result"
    }
   ],
   "source": [
    "list_car"
   ]
  },
  {
   "cell_type": "code",
   "execution_count": 23,
   "metadata": {},
   "outputs": [
    {
     "data": {
      "text/plain": [
       "Car\n",
       "Ford Ranger Wildtrak 2.0L 4x4 AT     38065.0\n",
       "Ford Ranger Wildtrak 3.2L 4x4 AT     31897.0\n",
       "Ford Ranger XLS 2.2L 4x2 AT          26950.0\n",
       "Mazda 3 1.5 AT                       22323.0\n",
       "Mercedes Benz C class C300 AMG       65336.0\n",
       "Mercedes Benz GLC 300 4Matic         91697.0\n",
       "Toyota Camry 2.5Q                    46266.0\n",
       "Toyota Innova 2.0E                   20512.0\n",
       "Toyota Innova G                      10837.0\n",
       "Toyota Vios 1.5G                     19384.0\n",
       "Name: Price (USD), dtype: float64"
      ]
     },
     "execution_count": 23,
     "metadata": {},
     "output_type": "execute_result"
    }
   ],
   "source": [
    "round(df3[df3['Car'].isin(list_car)].groupby('Car')['Price (USD)'].mean()) #Mean price of top 10 most popular cars in Vietnam"
   ]
  },
  {
   "cell_type": "markdown",
   "metadata": {},
   "source": [
    "## Geography"
   ]
  },
  {
   "cell_type": "code",
   "execution_count": 24,
   "metadata": {},
   "outputs": [
    {
     "data": {
      "text/plain": [
       "Location\n",
       "Hà Nội        19025\n",
       "TP HCM         8146\n",
       "Hải Phòng      1163\n",
       "Bình Dương      882\n",
       "Đăk Lăk         727\n",
       "              ...  \n",
       "Hậu Giang        14\n",
       "Vĩnh Long        11\n",
       "Lai Châu         10\n",
       "Trà Vinh          8\n",
       "Bạc Liêu          3\n",
       "Length: 63, dtype: int64"
      ]
     },
     "execution_count": 24,
     "metadata": {},
     "output_type": "execute_result"
    }
   ],
   "source": [
    "df3.groupby('Location').size().sort_values(ascending=False)"
   ]
  },
  {
   "cell_type": "markdown",
   "metadata": {},
   "source": [
    "## What is the most expensive car?"
   ]
  },
  {
   "cell_type": "code",
   "execution_count": 25,
   "metadata": {},
   "outputs": [],
   "source": [
    "d5 = df3.sort_values(by=['Price (USD)'], ascending=False)"
   ]
  },
  {
   "cell_type": "code",
   "execution_count": 26,
   "metadata": {},
   "outputs": [
    {
     "data": {
      "text/html": [
       "<div>\n",
       "<style scoped>\n",
       "    .dataframe tbody tr th:only-of-type {\n",
       "        vertical-align: middle;\n",
       "    }\n",
       "\n",
       "    .dataframe tbody tr th {\n",
       "        vertical-align: top;\n",
       "    }\n",
       "\n",
       "    .dataframe thead th {\n",
       "        text-align: right;\n",
       "    }\n",
       "</style>\n",
       "<table border=\"1\" class=\"dataframe\">\n",
       "  <thead>\n",
       "    <tr style=\"text-align: right;\">\n",
       "      <th></th>\n",
       "      <th>Condition</th>\n",
       "      <th>Location</th>\n",
       "      <th>Car_code</th>\n",
       "      <th>Year</th>\n",
       "      <th>Car</th>\n",
       "      <th>Final_link</th>\n",
       "      <th>Brand</th>\n",
       "      <th>Price (USD)</th>\n",
       "    </tr>\n",
       "  </thead>\n",
       "  <tbody>\n",
       "    <tr>\n",
       "      <th>11237</th>\n",
       "      <td>Xe mới</td>\n",
       "      <td>Hà Nội</td>\n",
       "      <td>Mã: 4234748</td>\n",
       "      <td>2022</td>\n",
       "      <td>Rolls Royce Cullinan Black Badge</td>\n",
       "      <td>bonbanh.com/xe-rolls_royce-cullinan-black-badg...</td>\n",
       "      <td>Rolls Royce</td>\n",
       "      <td>1838786.0</td>\n",
       "    </tr>\n",
       "    <tr>\n",
       "      <th>5404</th>\n",
       "      <td>Xe mới</td>\n",
       "      <td>Hà Nội</td>\n",
       "      <td>Mã: 4471155</td>\n",
       "      <td>2021</td>\n",
       "      <td>Rolls Royce Cullinan Black Badge</td>\n",
       "      <td>bonbanh.com/xe-rolls_royce-cullinan-black-badg...</td>\n",
       "      <td>Rolls Royce</td>\n",
       "      <td>1838786.0</td>\n",
       "    </tr>\n",
       "    <tr>\n",
       "      <th>22299</th>\n",
       "      <td>Xe mới</td>\n",
       "      <td>Hà Nội</td>\n",
       "      <td>Mã: 4269258</td>\n",
       "      <td>2022</td>\n",
       "      <td>Rolls Royce Cullinan Black Badge</td>\n",
       "      <td>bonbanh.com/xe-rolls_royce-cullinan-black--bad...</td>\n",
       "      <td>Rolls Royce</td>\n",
       "      <td>1837888.0</td>\n",
       "    </tr>\n",
       "    <tr>\n",
       "      <th>14876</th>\n",
       "      <td>Xe cũ</td>\n",
       "      <td>Hà Nội</td>\n",
       "      <td>Mã: 4479164</td>\n",
       "      <td>2021</td>\n",
       "      <td>Rolls Royce Ghost Series II EWB</td>\n",
       "      <td>bonbanh.com/xe-rolls_royce-ghost-series-ii-ewb...</td>\n",
       "      <td>Rolls Royce</td>\n",
       "      <td>1817404.0</td>\n",
       "    </tr>\n",
       "    <tr>\n",
       "      <th>20768</th>\n",
       "      <td>Xe cũ</td>\n",
       "      <td>Hà Nội</td>\n",
       "      <td>Mã: 4408913</td>\n",
       "      <td>2018</td>\n",
       "      <td>Rolls Royce Cullinan 6.75 V12</td>\n",
       "      <td>bonbanh.com/xe-rolls_royce-cullinan-6.75-v12-2...</td>\n",
       "      <td>Rolls Royce</td>\n",
       "      <td>1795595.0</td>\n",
       "    </tr>\n",
       "  </tbody>\n",
       "</table>\n",
       "</div>"
      ],
      "text/plain": [
       "      Condition Location     Car_code   Year  \\\n",
       "11237    Xe mới   Hà Nội  Mã: 4234748   2022   \n",
       "5404     Xe mới   Hà Nội  Mã: 4471155   2021   \n",
       "22299    Xe mới   Hà Nội  Mã: 4269258   2022   \n",
       "14876     Xe cũ   Hà Nội  Mã: 4479164   2021   \n",
       "20768     Xe cũ   Hà Nội  Mã: 4408913   2018   \n",
       "\n",
       "                                     Car  \\\n",
       "11237  Rolls Royce Cullinan Black Badge    \n",
       "5404   Rolls Royce Cullinan Black Badge    \n",
       "22299  Rolls Royce Cullinan Black Badge    \n",
       "14876   Rolls Royce Ghost Series II EWB    \n",
       "20768     Rolls Royce Cullinan 6.75 V12    \n",
       "\n",
       "                                              Final_link        Brand  \\\n",
       "11237  bonbanh.com/xe-rolls_royce-cullinan-black-badg...  Rolls Royce   \n",
       "5404   bonbanh.com/xe-rolls_royce-cullinan-black-badg...  Rolls Royce   \n",
       "22299  bonbanh.com/xe-rolls_royce-cullinan-black--bad...  Rolls Royce   \n",
       "14876  bonbanh.com/xe-rolls_royce-ghost-series-ii-ewb...  Rolls Royce   \n",
       "20768  bonbanh.com/xe-rolls_royce-cullinan-6.75-v12-2...  Rolls Royce   \n",
       "\n",
       "       Price (USD)  \n",
       "11237    1838786.0  \n",
       "5404     1838786.0  \n",
       "22299    1837888.0  \n",
       "14876    1817404.0  \n",
       "20768    1795595.0  "
      ]
     },
     "execution_count": 26,
     "metadata": {},
     "output_type": "execute_result"
    }
   ],
   "source": [
    "d5.head(5) #Top 5 most expensive car"
   ]
  },
  {
   "cell_type": "code",
   "execution_count": 27,
   "metadata": {},
   "outputs": [
    {
     "data": {
      "text/plain": [
       "array(['Hà Nội', 'TP HCM', 'Hải Dương', 'Quảng Ninh', 'Đà Nẵng',\n",
       "       'Khánh Hòa', 'Bình Dương', 'Cần Thơ', 'Hải Phòng', 'Hà Nam',\n",
       "       'Nghệ An', 'Phú Thọ', 'Đồng Nai', 'Ninh Bình', 'Vĩnh Phúc',\n",
       "       'Bà Rịa Vũng Tàu', 'Hưng Yên', 'Thái Nguyên', 'Bắc Giang',\n",
       "       'Lâm Đồng', 'Bình Định', 'Gia Lai', 'Kiên Giang', 'Tiền Giang',\n",
       "       'Long An', 'Bắc Ninh', 'Lai Châu', 'Bình Phước', 'Thanh Hóa',\n",
       "       'Bến Tre', 'Thừa Thiên Huế', 'Lào Cai', 'Tây Ninh', 'Bình Thuận',\n",
       "       'Đăk Lăk', 'Ninh Thuận', 'Đồng Tháp', 'Cà Mau', 'Tuyên Quang',\n",
       "       'Hòa Bình', 'An Giang', 'Nam Định', 'Sơn La', 'Kon Tum', 'Phú Yên',\n",
       "       'Hà Giang', 'Lạng Sơn', 'Hà Tĩnh', 'Quảng Nam', 'Bạc Liêu',\n",
       "       'Quảng Bình', 'Hậu Giang', 'Quảng Trị', 'Thái Bình', 'Sóc Trăng',\n",
       "       'Đăk Nông', 'Cao Bằng', 'Điện Biên', 'Quảng Ngãi', 'Bắc Kạn',\n",
       "       'Yên Bái', 'Vĩnh Long', 'Trà Vinh'], dtype=object)"
      ]
     },
     "execution_count": 27,
     "metadata": {},
     "output_type": "execute_result"
    }
   ],
   "source": [
    "d5.Location.unique()"
   ]
  },
  {
   "cell_type": "code",
   "execution_count": 28,
   "metadata": {},
   "outputs": [
    {
     "data": {
      "text/html": [
       "<div>\n",
       "<style scoped>\n",
       "    .dataframe tbody tr th:only-of-type {\n",
       "        vertical-align: middle;\n",
       "    }\n",
       "\n",
       "    .dataframe tbody tr th {\n",
       "        vertical-align: top;\n",
       "    }\n",
       "\n",
       "    .dataframe thead th {\n",
       "        text-align: right;\n",
       "    }\n",
       "</style>\n",
       "<table border=\"1\" class=\"dataframe\">\n",
       "  <thead>\n",
       "    <tr style=\"text-align: right;\">\n",
       "      <th></th>\n",
       "      <th>Condition</th>\n",
       "      <th>Location</th>\n",
       "      <th>Car_code</th>\n",
       "      <th>Year</th>\n",
       "      <th>Car</th>\n",
       "      <th>Final_link</th>\n",
       "      <th>Brand</th>\n",
       "      <th>Price (USD)</th>\n",
       "    </tr>\n",
       "  </thead>\n",
       "  <tbody>\n",
       "    <tr>\n",
       "      <th>29475</th>\n",
       "      <td>Xe cũ</td>\n",
       "      <td>Hà Nội</td>\n",
       "      <td>Mã: 4447353</td>\n",
       "      <td>2017</td>\n",
       "      <td>BMW 3 Series 320i</td>\n",
       "      <td>bonbanh.com/xe-bmw-3_series-320i-2017-4447353</td>\n",
       "      <td>BMW</td>\n",
       "      <td>40624.0</td>\n",
       "    </tr>\n",
       "    <tr>\n",
       "      <th>3684</th>\n",
       "      <td>Xe cũ</td>\n",
       "      <td>Hà Nội</td>\n",
       "      <td>Mã: 4440397</td>\n",
       "      <td>2016</td>\n",
       "      <td>BMW 3 Series 320i</td>\n",
       "      <td>bonbanh.com/xe-bmw-3_series-320i-2016-4440397</td>\n",
       "      <td>BMW</td>\n",
       "      <td>42549.0</td>\n",
       "    </tr>\n",
       "    <tr>\n",
       "      <th>11950</th>\n",
       "      <td>Xe cũ</td>\n",
       "      <td>Hà Nội</td>\n",
       "      <td>Mã: 4322193</td>\n",
       "      <td>2016</td>\n",
       "      <td>BMW 3 Series 320i</td>\n",
       "      <td>bonbanh.com/xe-bmw-3_series-320i-2016-4322193</td>\n",
       "      <td>BMW</td>\n",
       "      <td>40154.0</td>\n",
       "    </tr>\n",
       "    <tr>\n",
       "      <th>25532</th>\n",
       "      <td>Xe cũ</td>\n",
       "      <td>Hà Nội</td>\n",
       "      <td>Mã: 4466565</td>\n",
       "      <td>2016</td>\n",
       "      <td>BMW 3 Series 320i</td>\n",
       "      <td>bonbanh.com/xe-bmw-3_series-320i-2016-4466565</td>\n",
       "      <td>BMW</td>\n",
       "      <td>38272.0</td>\n",
       "    </tr>\n",
       "    <tr>\n",
       "      <th>13094</th>\n",
       "      <td>Xe cũ</td>\n",
       "      <td>Hà Nội</td>\n",
       "      <td>Mã: 4258834</td>\n",
       "      <td>2016</td>\n",
       "      <td>BMW 3 Series 320i</td>\n",
       "      <td>bonbanh.com/xe-bmw-3_series-320i-2016-4258834</td>\n",
       "      <td>BMW</td>\n",
       "      <td>38443.0</td>\n",
       "    </tr>\n",
       "    <tr>\n",
       "      <th>463</th>\n",
       "      <td>Xe cũ</td>\n",
       "      <td>Hà Nội</td>\n",
       "      <td>Mã: 4259516</td>\n",
       "      <td>2016</td>\n",
       "      <td>BMW 3 Series 320i</td>\n",
       "      <td>bonbanh.com/xe-bmw-3_series-320i-2016-4259516</td>\n",
       "      <td>BMW</td>\n",
       "      <td>38443.0</td>\n",
       "    </tr>\n",
       "    <tr>\n",
       "      <th>1947</th>\n",
       "      <td>Xe cũ</td>\n",
       "      <td>Hà Nội</td>\n",
       "      <td>Mã: 4259504</td>\n",
       "      <td>2016</td>\n",
       "      <td>BMW 3 Series 320i</td>\n",
       "      <td>bonbanh.com/xe-bmw-3_series-320i-2016-4259504</td>\n",
       "      <td>BMW</td>\n",
       "      <td>38443.0</td>\n",
       "    </tr>\n",
       "    <tr>\n",
       "      <th>4220</th>\n",
       "      <td>Xe cũ</td>\n",
       "      <td>Hà Nội</td>\n",
       "      <td>Mã: 4401387</td>\n",
       "      <td>2016</td>\n",
       "      <td>BMW 3 Series 320i</td>\n",
       "      <td>bonbanh.com/xe-bmw-3_series-320i-2016-4401387</td>\n",
       "      <td>BMW</td>\n",
       "      <td>37631.0</td>\n",
       "    </tr>\n",
       "    <tr>\n",
       "      <th>37213</th>\n",
       "      <td>Xe cũ</td>\n",
       "      <td>Hà Nội</td>\n",
       "      <td>Mã: 4331387</td>\n",
       "      <td>2016</td>\n",
       "      <td>BMW 3 Series 320i</td>\n",
       "      <td>bonbanh.com/xe-bmw-3_series-320i-2016-4331387</td>\n",
       "      <td>BMW</td>\n",
       "      <td>38914.0</td>\n",
       "    </tr>\n",
       "    <tr>\n",
       "      <th>18454</th>\n",
       "      <td>Xe cũ</td>\n",
       "      <td>Hà Nội</td>\n",
       "      <td>Mã: 4452939</td>\n",
       "      <td>2016</td>\n",
       "      <td>BMW 3 Series 320i</td>\n",
       "      <td>bonbanh.com/xe-bmw-3_series-320i-2016-4452939</td>\n",
       "      <td>BMW</td>\n",
       "      <td>39341.0</td>\n",
       "    </tr>\n",
       "  </tbody>\n",
       "</table>\n",
       "</div>"
      ],
      "text/plain": [
       "      Condition Location     Car_code   Year                 Car  \\\n",
       "29475     Xe cũ   Hà Nội  Mã: 4447353   2017  BMW 3 Series 320i    \n",
       "3684      Xe cũ   Hà Nội  Mã: 4440397   2016  BMW 3 Series 320i    \n",
       "11950     Xe cũ   Hà Nội  Mã: 4322193   2016  BMW 3 Series 320i    \n",
       "25532     Xe cũ   Hà Nội  Mã: 4466565   2016  BMW 3 Series 320i    \n",
       "13094     Xe cũ   Hà Nội  Mã: 4258834   2016  BMW 3 Series 320i    \n",
       "463       Xe cũ   Hà Nội  Mã: 4259516   2016  BMW 3 Series 320i    \n",
       "1947      Xe cũ   Hà Nội  Mã: 4259504   2016  BMW 3 Series 320i    \n",
       "4220      Xe cũ   Hà Nội  Mã: 4401387   2016  BMW 3 Series 320i    \n",
       "37213     Xe cũ   Hà Nội  Mã: 4331387   2016  BMW 3 Series 320i    \n",
       "18454     Xe cũ   Hà Nội  Mã: 4452939   2016  BMW 3 Series 320i    \n",
       "\n",
       "                                          Final_link Brand  Price (USD)  \n",
       "29475  bonbanh.com/xe-bmw-3_series-320i-2017-4447353   BMW      40624.0  \n",
       "3684   bonbanh.com/xe-bmw-3_series-320i-2016-4440397   BMW      42549.0  \n",
       "11950  bonbanh.com/xe-bmw-3_series-320i-2016-4322193   BMW      40154.0  \n",
       "25532  bonbanh.com/xe-bmw-3_series-320i-2016-4466565   BMW      38272.0  \n",
       "13094  bonbanh.com/xe-bmw-3_series-320i-2016-4258834   BMW      38443.0  \n",
       "463    bonbanh.com/xe-bmw-3_series-320i-2016-4259516   BMW      38443.0  \n",
       "1947   bonbanh.com/xe-bmw-3_series-320i-2016-4259504   BMW      38443.0  \n",
       "4220   bonbanh.com/xe-bmw-3_series-320i-2016-4401387   BMW      37631.0  \n",
       "37213  bonbanh.com/xe-bmw-3_series-320i-2016-4331387   BMW      38914.0  \n",
       "18454  bonbanh.com/xe-bmw-3_series-320i-2016-4452939   BMW      39341.0  "
      ]
     },
     "execution_count": 28,
     "metadata": {},
     "output_type": "execute_result"
    }
   ],
   "source": [
    "d5[(d5['Brand'] == 'BMW') & (d5['Location'] == 'Hà Nội') & (d5['Price (USD)'].between(21358,42716))].sort_values(by = ['Year'],ascending=False).head(10) #từ 500tr - 1 tỷ"
   ]
  },
  {
   "cell_type": "markdown",
   "metadata": {},
   "source": []
  },
  {
   "cell_type": "code",
   "execution_count": 29,
   "metadata": {},
   "outputs": [
    {
     "data": {
      "text/html": [
       "<div>\n",
       "<style scoped>\n",
       "    .dataframe tbody tr th:only-of-type {\n",
       "        vertical-align: middle;\n",
       "    }\n",
       "\n",
       "    .dataframe tbody tr th {\n",
       "        vertical-align: top;\n",
       "    }\n",
       "\n",
       "    .dataframe thead th {\n",
       "        text-align: right;\n",
       "    }\n",
       "</style>\n",
       "<table border=\"1\" class=\"dataframe\">\n",
       "  <thead>\n",
       "    <tr style=\"text-align: right;\">\n",
       "      <th></th>\n",
       "      <th>Condition</th>\n",
       "      <th>Location</th>\n",
       "      <th>Car_code</th>\n",
       "      <th>Year</th>\n",
       "      <th>Car</th>\n",
       "      <th>Final_link</th>\n",
       "      <th>Brand</th>\n",
       "      <th>Price (USD)</th>\n",
       "    </tr>\n",
       "  </thead>\n",
       "  <tbody>\n",
       "    <tr>\n",
       "      <th>8783</th>\n",
       "      <td>Xe cũ</td>\n",
       "      <td>TP HCM</td>\n",
       "      <td>Mã: 4497944</td>\n",
       "      <td>4 - 2015</td>\n",
       "      <td>Lamborghini Aventador LP 700</td>\n",
       "      <td>bonbanh.com/xe-lamborghini-aventador-lp-700-4-...</td>\n",
       "      <td>Lamborghini</td>\n",
       "      <td>641009.0</td>\n",
       "    </tr>\n",
       "    <tr>\n",
       "      <th>20446</th>\n",
       "      <td>Xe mới</td>\n",
       "      <td>TP HCM</td>\n",
       "      <td>Mã: 4501755</td>\n",
       "      <td>Spec 3.5 AT SH-AWD - 2022</td>\n",
       "      <td>Acura MDX A</td>\n",
       "      <td>bonbanh.com/xe-acura-mdx-a-spec-3.5-at-sh-awd-...</td>\n",
       "      <td>Others</td>\n",
       "      <td>295061.0</td>\n",
       "    </tr>\n",
       "    <tr>\n",
       "      <th>12902</th>\n",
       "      <td>Xe mới</td>\n",
       "      <td>Hà Nội</td>\n",
       "      <td>Mã: 2494847</td>\n",
       "      <td>Dynamic HSE 2.0 - 2019</td>\n",
       "      <td>LandRover Range Rover Velar R</td>\n",
       "      <td>bonbanh.com/xe-landrover-range_rover_velar-r-d...</td>\n",
       "      <td>Range Rover</td>\n",
       "      <td>235151.0</td>\n",
       "    </tr>\n",
       "    <tr>\n",
       "      <th>5888</th>\n",
       "      <td>Xe mới</td>\n",
       "      <td>Hà Nội</td>\n",
       "      <td>Mã: 2873302</td>\n",
       "      <td>Dynamic SE 2.0 - 2019</td>\n",
       "      <td>LandRover Range Rover Velar R</td>\n",
       "      <td>bonbanh.com/xe-landrover-range_rover_velar-r-d...</td>\n",
       "      <td>Range Rover</td>\n",
       "      <td>224032.0</td>\n",
       "    </tr>\n",
       "    <tr>\n",
       "      <th>13337</th>\n",
       "      <td>Xe cũ</td>\n",
       "      <td>Hà Nội</td>\n",
       "      <td>Mã: 4479673</td>\n",
       "      <td>Line Quattro - 2022</td>\n",
       "      <td>Audi Q8 55 TFSI S</td>\n",
       "      <td>bonbanh.com/xe-audi-q8-55-tfsi-s-line-quattro-...</td>\n",
       "      <td>Audi</td>\n",
       "      <td>222365.0</td>\n",
       "    </tr>\n",
       "    <tr>\n",
       "      <th>...</th>\n",
       "      <td>...</td>\n",
       "      <td>...</td>\n",
       "      <td>...</td>\n",
       "      <td>...</td>\n",
       "      <td>...</td>\n",
       "      <td>...</td>\n",
       "      <td>...</td>\n",
       "      <td>...</td>\n",
       "    </tr>\n",
       "    <tr>\n",
       "      <th>26597</th>\n",
       "      <td>Xe cũ</td>\n",
       "      <td>Phú Thọ</td>\n",
       "      <td>Mã: 4477946</td>\n",
       "      <td>5 4x2 MT - 2003</td>\n",
       "      <td>Ssangyong Korando TX</td>\n",
       "      <td>bonbanh.com/xe-ssangyong-korando-tx-5-4x2-mt-2...</td>\n",
       "      <td>Others</td>\n",
       "      <td>5773.0</td>\n",
       "    </tr>\n",
       "    <tr>\n",
       "      <th>13130</th>\n",
       "      <td>Xe cũ</td>\n",
       "      <td>Bắc Ninh</td>\n",
       "      <td>Mã: 4513162</td>\n",
       "      <td>spec 2.5 MT - 2004</td>\n",
       "      <td>Isuzu Hi lander V</td>\n",
       "      <td>bonbanh.com/xe-isuzu-hi_lander-v-spec-2.5-mt-2...</td>\n",
       "      <td>Others</td>\n",
       "      <td>5046.0</td>\n",
       "    </tr>\n",
       "    <tr>\n",
       "      <th>31956</th>\n",
       "      <td>Xe cũ</td>\n",
       "      <td>Tuyên Quang</td>\n",
       "      <td>Mã: 4415368</td>\n",
       "      <td>5 4x4 MT - 2002</td>\n",
       "      <td>Ssangyong Korando TX</td>\n",
       "      <td>bonbanh.com/xe-ssangyong-korando-tx-5-4x4-mt-2...</td>\n",
       "      <td>Others</td>\n",
       "      <td>4276.0</td>\n",
       "    </tr>\n",
       "    <tr>\n",
       "      <th>33789</th>\n",
       "      <td>Xe cũ</td>\n",
       "      <td>Lâm Đồng</td>\n",
       "      <td>Mã: 4387812</td>\n",
       "      <td>5 4x4 MT - 2000</td>\n",
       "      <td>Ssangyong Korando TX</td>\n",
       "      <td>bonbanh.com/xe-ssangyong-korando-tx-5-4x4-mt-2...</td>\n",
       "      <td>Others</td>\n",
       "      <td>3122.0</td>\n",
       "    </tr>\n",
       "    <tr>\n",
       "      <th>28240</th>\n",
       "      <td>Xe cũ</td>\n",
       "      <td>Hải Phòng</td>\n",
       "      <td>Mã: 4460763</td>\n",
       "      <td>5 4x2 MT - 2000</td>\n",
       "      <td>Ssangyong Korando TX</td>\n",
       "      <td>bonbanh.com/xe-ssangyong-korando-tx-5-4x2-mt-2...</td>\n",
       "      <td>Others</td>\n",
       "      <td>2865.0</td>\n",
       "    </tr>\n",
       "  </tbody>\n",
       "</table>\n",
       "<p>511 rows × 8 columns</p>\n",
       "</div>"
      ],
      "text/plain": [
       "      Condition     Location     Car_code                       Year  \\\n",
       "8783      Xe cũ       TP HCM  Mã: 4497944                   4 - 2015   \n",
       "20446    Xe mới       TP HCM  Mã: 4501755  Spec 3.5 AT SH-AWD - 2022   \n",
       "12902    Xe mới       Hà Nội  Mã: 2494847     Dynamic HSE 2.0 - 2019   \n",
       "5888     Xe mới       Hà Nội  Mã: 2873302      Dynamic SE 2.0 - 2019   \n",
       "13337     Xe cũ       Hà Nội  Mã: 4479673        Line Quattro - 2022   \n",
       "...         ...          ...          ...                        ...   \n",
       "26597     Xe cũ      Phú Thọ  Mã: 4477946            5 4x2 MT - 2003   \n",
       "13130     Xe cũ     Bắc Ninh  Mã: 4513162         spec 2.5 MT - 2004   \n",
       "31956     Xe cũ  Tuyên Quang  Mã: 4415368            5 4x4 MT - 2002   \n",
       "33789     Xe cũ     Lâm Đồng  Mã: 4387812            5 4x4 MT - 2000   \n",
       "28240     Xe cũ    Hải Phòng  Mã: 4460763            5 4x2 MT - 2000   \n",
       "\n",
       "                                 Car  \\\n",
       "8783    Lamborghini Aventador LP 700   \n",
       "20446                    Acura MDX A   \n",
       "12902  LandRover Range Rover Velar R   \n",
       "5888   LandRover Range Rover Velar R   \n",
       "13337              Audi Q8 55 TFSI S   \n",
       "...                              ...   \n",
       "26597           Ssangyong Korando TX   \n",
       "13130              Isuzu Hi lander V   \n",
       "31956           Ssangyong Korando TX   \n",
       "33789           Ssangyong Korando TX   \n",
       "28240           Ssangyong Korando TX   \n",
       "\n",
       "                                              Final_link        Brand  \\\n",
       "8783   bonbanh.com/xe-lamborghini-aventador-lp-700-4-...  Lamborghini   \n",
       "20446  bonbanh.com/xe-acura-mdx-a-spec-3.5-at-sh-awd-...       Others   \n",
       "12902  bonbanh.com/xe-landrover-range_rover_velar-r-d...  Range Rover   \n",
       "5888   bonbanh.com/xe-landrover-range_rover_velar-r-d...  Range Rover   \n",
       "13337  bonbanh.com/xe-audi-q8-55-tfsi-s-line-quattro-...         Audi   \n",
       "...                                                  ...          ...   \n",
       "26597  bonbanh.com/xe-ssangyong-korando-tx-5-4x2-mt-2...       Others   \n",
       "13130  bonbanh.com/xe-isuzu-hi_lander-v-spec-2.5-mt-2...       Others   \n",
       "31956  bonbanh.com/xe-ssangyong-korando-tx-5-4x4-mt-2...       Others   \n",
       "33789  bonbanh.com/xe-ssangyong-korando-tx-5-4x4-mt-2...       Others   \n",
       "28240  bonbanh.com/xe-ssangyong-korando-tx-5-4x2-mt-2...       Others   \n",
       "\n",
       "       Price (USD)  \n",
       "8783      641009.0  \n",
       "20446     295061.0  \n",
       "12902     235151.0  \n",
       "5888      224032.0  \n",
       "13337     222365.0  \n",
       "...            ...  \n",
       "26597       5773.0  \n",
       "13130       5046.0  \n",
       "31956       4276.0  \n",
       "33789       3122.0  \n",
       "28240       2865.0  \n",
       "\n",
       "[511 rows x 8 columns]"
      ]
     },
     "execution_count": 29,
     "metadata": {},
     "output_type": "execute_result"
    }
   ],
   "source": [
    "#d5['Year'] = d5['Year'].fillna(0)\n",
    "d5[d5['Year'].str.contains(\"-\",na=False)]"
   ]
  }
 ],
 "metadata": {
  "kernelspec": {
   "display_name": "Python 3.8.13 ('base')",
   "language": "python",
   "name": "python3"
  },
  "language_info": {
   "codemirror_mode": {
    "name": "ipython",
    "version": 3
   },
   "file_extension": ".py",
   "mimetype": "text/x-python",
   "name": "python",
   "nbconvert_exporter": "python",
   "pygments_lexer": "ipython3",
   "version": "3.8.13"
  },
  "orig_nbformat": 4,
  "vscode": {
   "interpreter": {
    "hash": "ad2bdc8ecc057115af97d19610ffacc2b4e99fae6737bb82f5d7fb13d2f2c186"
   }
  }
 },
 "nbformat": 4,
 "nbformat_minor": 2
}
